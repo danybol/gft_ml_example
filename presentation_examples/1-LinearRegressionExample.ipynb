{
 "cells": [
  {
   "cell_type": "code",
   "execution_count": null,
   "metadata": {},
   "outputs": [],
   "source": [
    "%pylab inline"
   ]
  },
  {
   "cell_type": "code",
   "execution_count": null,
   "metadata": {},
   "outputs": [],
   "source": [
    "import pandas as pd\n",
    "import numpy as np\n",
    "from sklearn.linear_model import LinearRegression, Lasso\n",
    "from sklearn.metrics import mean_squared_error\n",
    "import seaborn\n",
    "np.random.seed(12345)\n",
    "seaborn.set_style('white')\n",
    "seaborn.set_context('talk')"
   ]
  },
  {
   "cell_type": "markdown",
   "metadata": {},
   "source": [
    "# Generate Simple Example Data"
   ]
  },
  {
   "cell_type": "code",
   "execution_count": null,
   "metadata": {},
   "outputs": [],
   "source": [
    "x = np.linspace(-3, 3, num=200)[:, np.newaxis]\n",
    "y = 1.5*x[:, 0] + np.random.randn(x.shape[0])\n",
    "train_x = x[:150]\n",
    "train_y = y[:150]\n",
    "test_x = x[150:]\n",
    "test_y = y[150:]\n"
   ]
  },
  {
   "cell_type": "code",
   "execution_count": null,
   "metadata": {},
   "outputs": [],
   "source": [
    "x[0:5]"
   ]
  },
  {
   "cell_type": "code",
   "execution_count": null,
   "metadata": {},
   "outputs": [],
   "source": [
    "y[0:5]"
   ]
  },
  {
   "cell_type": "code",
   "execution_count": null,
   "metadata": {},
   "outputs": [],
   "source": [
    "plot(train_x, train_y)\n",
    "plot(test_x, test_y)"
   ]
  },
  {
   "cell_type": "markdown",
   "metadata": {},
   "source": [
    "# Fit a Linear Regression"
   ]
  },
  {
   "cell_type": "code",
   "execution_count": null,
   "metadata": {},
   "outputs": [],
   "source": [
    "model = LinearRegression()\n",
    "\n",
    "model.fit(train_x, train_y)\n",
    "\n",
    "train_pred = model.predict(train_x)\n",
    "test_pred = model.predict(test_x)"
   ]
  },
  {
   "cell_type": "code",
   "execution_count": null,
   "metadata": {},
   "outputs": [],
   "source": [
    "plot(train_x, train_y)\n",
    "plot(test_x, test_y)\n",
    "plot(train_x, train_pred, 'r')\n",
    "plot(test_x, test_pred, 'r')\n",
    "_ = legend(['Train', 'Test', 'Prediction'])"
   ]
  },
  {
   "cell_type": "code",
   "execution_count": null,
   "metadata": {},
   "outputs": [],
   "source": [
    "print(\"Train RMSE Score: {:.2f}\".format(np.sqrt(mean_squared_error(train_y, train_pred))))\n",
    "print(\"Test RMSE Score: {:.2f}\".format(np.sqrt(mean_squared_error(test_y, test_pred))))"
   ]
  },
  {
   "cell_type": "markdown",
   "metadata": {},
   "source": [
    "# Generate Example Data"
   ]
  },
  {
   "cell_type": "code",
   "execution_count": null,
   "metadata": {},
   "outputs": [],
   "source": [
    "x = np.linspace(-3, 3, num=200)[:, np.newaxis]\n",
    "y = 1.5*x[:, 0]**3 + 3*np.random.randn(x.shape[0])\n",
    "train_x = x[:150]\n",
    "train_y = y[:150]\n",
    "test_x = x[150:]\n",
    "test_y = y[150:]\n"
   ]
  },
  {
   "cell_type": "code",
   "execution_count": null,
   "metadata": {},
   "outputs": [],
   "source": [
    "x[0:5]"
   ]
  },
  {
   "cell_type": "code",
   "execution_count": null,
   "metadata": {},
   "outputs": [],
   "source": [
    "y[0:5]"
   ]
  },
  {
   "cell_type": "code",
   "execution_count": null,
   "metadata": {},
   "outputs": [],
   "source": [
    "plot(train_x, train_y)\n",
    "plot(test_x, test_y)"
   ]
  },
  {
   "cell_type": "markdown",
   "metadata": {},
   "source": [
    "# Fit a Linear Regression"
   ]
  },
  {
   "cell_type": "code",
   "execution_count": null,
   "metadata": {},
   "outputs": [],
   "source": [
    "model = LinearRegression()\n",
    "\n",
    "model.fit(train_x, train_y)\n",
    "\n",
    "train_pred = model.predict(train_x)\n",
    "test_pred = model.predict(test_x)"
   ]
  },
  {
   "cell_type": "code",
   "execution_count": null,
   "metadata": {},
   "outputs": [],
   "source": [
    "plot(train_x, train_y)\n",
    "plot(test_x, test_y)\n",
    "plot(train_x, train_pred, 'r')\n",
    "plot(test_x, test_pred, 'r')\n",
    "_ = legend(['Train', 'Test', 'Prediction'])"
   ]
  },
  {
   "cell_type": "code",
   "execution_count": null,
   "metadata": {},
   "outputs": [],
   "source": [
    "print(\"Train RMSE Score: {:.2f}\".format(np.sqrt(mean_squared_error(train_y, train_pred))))\n",
    "print(\"Test RMSE Score: {:.2f}\".format(np.sqrt(mean_squared_error(test_y, test_pred))))"
   ]
  },
  {
   "cell_type": "markdown",
   "metadata": {},
   "source": [
    "# Fit a Linear Regression with cubic term"
   ]
  },
  {
   "cell_type": "markdown",
   "metadata": {},
   "source": [
    "#### Even though the regression is 'linear', we can use nonlinear combinations of the input variables such as $x^3$"
   ]
  },
  {
   "cell_type": "code",
   "execution_count": null,
   "metadata": {},
   "outputs": [],
   "source": [
    "model = LinearRegression()\n",
    "model.fit(train_x**3, train_y)\n",
    "train_pred = model.predict(train_x**3)\n",
    "test_pred = model.predict(test_x**3)"
   ]
  },
  {
   "cell_type": "code",
   "execution_count": null,
   "metadata": {},
   "outputs": [],
   "source": [
    "plot(train_x, train_y)\n",
    "plot(test_x, test_y)\n",
    "plot(train_x, train_pred, 'r')\n",
    "plot(test_x, test_pred, 'r')\n",
    "_ = legend(['Train', 'Test', 'Prediction'])"
   ]
  },
  {
   "cell_type": "code",
   "execution_count": null,
   "metadata": {},
   "outputs": [],
   "source": [
    "print(\"Train RMSE Score: {:.2f}\".format(np.sqrt(mean_squared_error(train_y, train_pred))))\n",
    "print(\"Test RMSE Score: {:.2f}\".format(np.sqrt(mean_squared_error(test_y, test_pred))))"
   ]
  },
  {
   "cell_type": "markdown",
   "metadata": {},
   "source": [
    "#### We get a much better fit by using the transformed variable"
   ]
  },
  {
   "cell_type": "markdown",
   "metadata": {},
   "source": [
    "# Importance of Regularization"
   ]
  },
  {
   "cell_type": "markdown",
   "metadata": {},
   "source": [
    "#### Often we don't know exactly which transformed variables we need to use, so we have to try all of them. Unfortunately, this can cause normal linear regression to go badly wrong"
   ]
  },
  {
   "cell_type": "code",
   "execution_count": null,
   "metadata": {},
   "outputs": [],
   "source": [
    "# Use all powers of variable between 1 and 5\n",
    "new_train_x = np.hstack((train_x, train_x**2, train_x**3, train_x**4, train_x**5, train_x**6, train_x**7))\n",
    "new_test_x = np.hstack((test_x, test_x**2, test_x**3, test_x**4, test_x**5, test_x**6, test_x**7))"
   ]
  },
  {
   "cell_type": "code",
   "execution_count": null,
   "metadata": {},
   "outputs": [],
   "source": [
    "model = LinearRegression()\n",
    "model.fit(new_train_x, train_y)\n",
    "train_pred = model.predict(new_train_x)\n",
    "test_pred = model.predict(new_test_x)"
   ]
  },
  {
   "cell_type": "code",
   "execution_count": null,
   "metadata": {},
   "outputs": [],
   "source": [
    "plot(train_x, train_y)\n",
    "plot(test_x, test_y)\n",
    "plot(train_x, train_pred, 'r')\n",
    "plot(test_x, test_pred, 'r')\n",
    "_ = legend(['Train', 'Test', 'Prediction'])"
   ]
  },
  {
   "cell_type": "code",
   "execution_count": null,
   "metadata": {},
   "outputs": [],
   "source": [
    "print(\"Train RMSE Score: {:.2f}\".format(np.sqrt(mean_squared_error(train_y, train_pred))))\n",
    "print(\"Test RMSE Score: {:.2f}\".format(np.sqrt(mean_squared_error(test_y, test_pred))))"
   ]
  },
  {
   "cell_type": "markdown",
   "metadata": {},
   "source": [
    "#### Uh oh!"
   ]
  },
  {
   "cell_type": "markdown",
   "metadata": {},
   "source": [
    "#### Using a regularized regression (such as Lasso) can stop the model going too far out of line"
   ]
  },
  {
   "cell_type": "code",
   "execution_count": null,
   "metadata": {},
   "outputs": [],
   "source": [
    "model = Lasso(alpha=4) # Pick this value with cross-validation\n",
    "model.fit(new_train_x, train_y)\n",
    "train_pred = model.predict(new_train_x)\n",
    "test_pred = model.predict(new_test_x)"
   ]
  },
  {
   "cell_type": "code",
   "execution_count": null,
   "metadata": {},
   "outputs": [],
   "source": [
    "plot(train_x, train_y)\n",
    "plot(test_x, test_y)\n",
    "plot(train_x, train_pred, 'r')\n",
    "plot(test_x, test_pred, 'r')\n",
    "_ = legend(['Train', 'Test', 'Prediction'])"
   ]
  },
  {
   "cell_type": "code",
   "execution_count": null,
   "metadata": {},
   "outputs": [],
   "source": [
    "print(\"Train RMSE Score: {:.2f}\".format(np.sqrt(mean_squared_error(train_y, train_pred))))\n",
    "print(\"Test RMSE Score: {:.2f}\".format(np.sqrt(mean_squared_error(test_y, test_pred))))"
   ]
  },
  {
   "cell_type": "code",
   "execution_count": null,
   "metadata": {},
   "outputs": [],
   "source": []
  }
 ],
 "metadata": {
  "kernelspec": {
   "display_name": "Python 3",
   "language": "python",
   "name": "python3"
  },
  "language_info": {
   "codemirror_mode": {
    "name": "ipython",
    "version": 3
   },
   "file_extension": ".py",
   "mimetype": "text/x-python",
   "name": "python",
   "nbconvert_exporter": "python",
   "pygments_lexer": "ipython3",
   "version": "3.6.8"
  }
 },
 "nbformat": 4,
 "nbformat_minor": 2
}
